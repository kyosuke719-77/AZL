{
 "cells": [
  {
   "cell_type": "markdown",
   "id": "408a75da",
   "metadata": {},
   "source": [
    "https://kagawa-u-ac-jp.zoom.us/j/82821628740?pwd=UHlrTzJJS1JzcmllN2ZVZWEwMnFSQT09  \n",
    "https://kagawa-u-ac-jp.zoom.us/j/86111644539?  \n",
    "https://us05web.zoom.us/j/6159726749?pwd=MmlWTkFaR01aVHZMVFVyZ3lNU3VZUT09  "
   ]
  },
  {
   "cell_type": "markdown",
   "id": "20a4c3da",
   "metadata": {},
   "source": [
    "URLからIDとPWを抽出する"
   ]
  },
  {
   "cell_type": "code",
   "execution_count": 1,
   "id": "7ce8924d",
   "metadata": {},
   "outputs": [],
   "source": [
    "def id_export(url, class_name):\n",
    "    id_target=url.find('/j/')\n",
    "    pwd_target=url.find('?pwd')\n",
    "    if(id_target<0 or pwd_target<0):\n",
    "        error(1)\n",
    "    else:\n",
    "        met_id=url[id_target+3:pwd_target]\n",
    "        met_pwd=url[pwd_target+5:]\n",
    "        create_bat(met_id, met_pwd, class_name)"
   ]
  },
  {
   "cell_type": "markdown",
   "id": "c1a7cddc",
   "metadata": {},
   "source": [
    "検証用\n",
    "id=6159726749\n",
    "pw=tF705F"
   ]
  },
  {
   "cell_type": "markdown",
   "id": "c147ceb8",
   "metadata": {},
   "source": [
    "batファイルの作成"
   ]
  },
  {
   "cell_type": "code",
   "execution_count": 2,
   "id": "2f1957f0",
   "metadata": {},
   "outputs": [],
   "source": [
    "def create_bat(met_id, met_pwd, class_name):\n",
    "    met_id=met_id.replace(' ','')\n",
    "    with open('./' + class_name + '.bat', 'w', encoding='utf-8')as file:\n",
    "        file.write('@echo off\\n')\n",
    "        file.write('start zoommtg:\\\"//zoom.us/join?action=join&confno=' + met_id + '&pwd=' + met_pwd + '\\\"')\n",
    "    file.close()\n",
    "    confirm()"
   ]
  },
  {
   "cell_type": "markdown",
   "id": "3e84426c",
   "metadata": {},
   "source": [
    "GUIの作成"
   ]
  },
  {
   "cell_type": "code",
   "execution_count": 10,
   "id": "5919dfa2",
   "metadata": {},
   "outputs": [],
   "source": [
    "import tkinter\n",
    "from tkinter import ttk\n",
    "from tkinter import messagebox\n",
    "\n",
    "main_win=tkinter.Tk()\n",
    "main_win.attributes(\"-topmost\", True)\n",
    "main_win.title(\"Automatic Zoom Launcher\")\n",
    "main_win.geometry(\"600x180\")\n",
    "\n",
    "main_frm=ttk.Frame(main_win)\n",
    "main_frm.grid(column=0, row=0, sticky=tkinter.NSEW, padx=5, pady=10)\n",
    "\n",
    "#URL\n",
    "url_label=ttk.Label(main_frm, text=\"接続URL\")\n",
    "url_box=ttk.Entry(main_frm)\n",
    "\n",
    "#ID, PW, class\n",
    "id_label=ttk.Label(main_frm, text=\"接続ID\")\n",
    "id_box=ttk.Entry(main_frm)\n",
    "pwd_label=ttk.Label(main_frm, text=\"passward\")\n",
    "pwd_box=ttk.Entry(main_frm)\n",
    "class_label=ttk.Label(main_frm, text=\"授業名\")\n",
    "class_box=ttk.Entry(main_frm)\n",
    "\n",
    "#登録ボタン\n",
    "app_btn=ttk.Button(main_frm, text='登録', command=val_get)\n",
    "\n",
    "url_label.grid(column=0, row=0, pady=10)\n",
    "url_box.grid(column=1, row=0, sticky=tkinter.EW, padx=5)\n",
    "id_label.grid(column=0, row=1)\n",
    "id_box.grid(column=1, row=1, sticky=tkinter.W, padx=5)\n",
    "pwd_label.grid(column=0, row=2)\n",
    "pwd_box.grid(column=1, row=2, sticky=tkinter.W, padx=5)\n",
    "class_label.grid(column=0, row=3, pady=10)\n",
    "class_box.grid(column=1, row=3, sticky=tkinter.W, padx=5)\n",
    "app_btn.grid(column=1, row=4)\n",
    "\n",
    "main_win.columnconfigure(0, weight=1)\n",
    "main_win.rowconfigure(0, weight=1)\n",
    "main_frm.columnconfigure(1, weight=1)\n",
    "\n",
    "main_win.mainloop()"
   ]
  },
  {
   "cell_type": "code",
   "execution_count": 3,
   "id": "96683ff8",
   "metadata": {},
   "outputs": [],
   "source": [
    "def val_get():\n",
    "    url=url_box.get()\n",
    "    met_id=id_box.get()\n",
    "    met_pwd=pwd_box.get()\n",
    "    class_name=class_box.get()\n",
    "    judge(url, met_id, met_pwd, class_name)"
   ]
  },
  {
   "cell_type": "code",
   "execution_count": 4,
   "id": "9e4fb7ec",
   "metadata": {},
   "outputs": [],
   "source": [
    "def confirm():\n",
    "    messagebox.showinfo(\"登録確認\",\"接続情報を登録しました\")\n",
    "    main_win.destroy()"
   ]
  },
  {
   "cell_type": "code",
   "execution_count": 5,
   "id": "5bbc8367",
   "metadata": {},
   "outputs": [],
   "source": [
    "def judge(url, met_id, met_pw, class_name):\n",
    "    if(class_name == ''):\n",
    "        error(0)\n",
    "    elif(url != '' or (met_id != '' and met_pw != '')):\n",
    "        if(url != ''):\n",
    "            if(met_pw != ''):\n",
    "                marge(url, met_pw, class_name)\n",
    "            else:\n",
    "                id_export(url,class_name)\n",
    "        else:\n",
    "            create_bat(met_id, met_pw, class_name)\n",
    "    else:\n",
    "        error(2)"
   ]
  },
  {
   "cell_type": "code",
   "execution_count": 6,
   "id": "2f27ec36",
   "metadata": {},
   "outputs": [],
   "source": [
    "def error(flag):\n",
    "    if(flag==0):\n",
    "        messagebox.showerror('エラー', '授業名が登録されていません')\n",
    "    elif(flag==1):\n",
    "        messagebox.showerror('エラー', 'URLにID若しくは、パスワードが含まれていません')\n",
    "    else:\n",
    "        messagebox.showerror('エラー', '登録すべき情報に不足があります')"
   ]
  },
  {
   "cell_type": "code",
   "execution_count": 8,
   "id": "2606bdc3",
   "metadata": {},
   "outputs": [],
   "source": [
    "def marge(url,met_pw,class_name):\n",
    "    pwd_target=url.find('?pwd')\n",
    "    if(pwd_target < 0):\n",
    "        url=url+'pwd='+met_pw\n",
    "    id_export(url,class_name)"
   ]
  },
  {
   "cell_type": "code",
   "execution_count": 47,
   "id": "c7529b71",
   "metadata": {
    "scrolled": true
   },
   "outputs": [
    {
     "name": "stdout",
     "output_type": "stream",
     "text": [
      "Collecting pyinstaller\n",
      "  Downloading pyinstaller-4.5.1-py3-none-win_amd64.whl (1.9 MB)\n",
      "Collecting pyinstaller-hooks-contrib>=2020.6\n",
      "  Downloading pyinstaller_hooks_contrib-2021.3-py2.py3-none-any.whl (200 kB)Note: you may need to restart the kernel to use updated packages.\n",
      "\n",
      "Requirement already satisfied: setuptools in c:\\users\\minec\\appdata\\local\\programs\\python\\python39\\lib\\site-packages (from pyinstaller) (57.0.0)\n",
      "Collecting altgraph\n",
      "  Downloading altgraph-0.17.2-py2.py3-none-any.whl (21 kB)\n",
      "Collecting pefile>=2017.8.1\n",
      "  Downloading pefile-2021.9.3.tar.gz (72 kB)\n",
      "Collecting pywin32-ctypes>=0.2.0\n",
      "  Downloading pywin32_ctypes-0.2.0-py2.py3-none-any.whl (28 kB)\n",
      "Collecting future\n",
      "  Downloading future-0.18.2.tar.gz (829 kB)\n",
      "Using legacy 'setup.py install' for pefile, since package 'wheel' is not installed.\n",
      "Using legacy 'setup.py install' for future, since package 'wheel' is not installed.\n",
      "Installing collected packages: future, pywin32-ctypes, pyinstaller-hooks-contrib, pefile, altgraph, pyinstaller\n",
      "    Running setup.py install for future: started\n",
      "    Running setup.py install for future: finished with status 'done'\n",
      "    Running setup.py install for pefile: started\n",
      "    Running setup.py install for pefile: finished with status 'done'\n",
      "Successfully installed altgraph-0.17.2 future-0.18.2 pefile-2021.9.3 pyinstaller-4.5.1 pyinstaller-hooks-contrib-2021.3 pywin32-ctypes-0.2.0\n"
     ]
    }
   ],
   "source": [
    "pip install pyinstaller"
   ]
  },
  {
   "cell_type": "code",
   "execution_count": 96,
   "id": "bde00df0",
   "metadata": {},
   "outputs": [],
   "source": [
    "class_name='exp2'"
   ]
  },
  {
   "cell_type": "code",
   "execution_count": 11,
   "id": "da74500d",
   "metadata": {},
   "outputs": [
    {
     "name": "stdout",
     "output_type": "stream",
     "text": [
      "-1\n"
     ]
    }
   ],
   "source": [
    "url='https://kagawa-u-ac-jp.zoom.us/j/86111644539?'\n",
    "print(url.find('?pwd'))\n",
    "    "
   ]
  },
  {
   "cell_type": "markdown",
   "id": "37f54c13",
   "metadata": {},
   "source": [
    "自動退出機能の実装"
   ]
  },
  {
   "cell_type": "code",
   "execution_count": 2,
   "id": "3c5d86de",
   "metadata": {},
   "outputs": [
    {
     "name": "stdout",
     "output_type": "stream",
     "text": [
      "Collecting pywinauto\n",
      "  Downloading pywinauto-0.6.8-py2.py3-none-any.whl (362 kB)\n",
      "Collecting comtypes\n",
      "  Downloading comtypes-1.1.10.tar.gz (145 kB)\n",
      "Requirement already satisfied: pywin32 in c:\\users\\minec\\appdata\\local\\programs\\python\\python39\\lib\\site-packages (from pywinauto) (301)\n",
      "Requirement already satisfied: six in c:\\users\\minec\\appdata\\local\\programs\\python\\python39\\lib\\site-packages (from pywinauto) (1.16.0)\n",
      "Using legacy 'setup.py install' for comtypes, since package 'wheel' is not installed.\n",
      "Installing collected packages: comtypes, pywinauto\n",
      "    Running setup.py install for comtypes: started\n",
      "    Running setup.py install for comtypes: finished with status 'done'\n",
      "Successfully installed comtypes-1.1.10 pywinauto-0.6.8\n",
      "Note: you may need to restart the kernel to use updated packages.\n"
     ]
    }
   ],
   "source": [
    "pip install pywinauto"
   ]
  },
  {
   "cell_type": "code",
   "execution_count": null,
   "id": "8f9bafa5",
   "metadata": {},
   "outputs": [],
   "source": []
  }
 ],
 "metadata": {
  "kernelspec": {
   "display_name": "Python 3",
   "language": "python",
   "name": "python3"
  },
  "language_info": {
   "codemirror_mode": {
    "name": "ipython",
    "version": 3
   },
   "file_extension": ".py",
   "mimetype": "text/x-python",
   "name": "python",
   "nbconvert_exporter": "python",
   "pygments_lexer": "ipython3",
   "version": "3.9.2"
  }
 },
 "nbformat": 4,
 "nbformat_minor": 5
}
